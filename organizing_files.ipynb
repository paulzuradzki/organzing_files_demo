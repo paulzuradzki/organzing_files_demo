{
 "cells": [
  {
   "cell_type": "markdown",
   "id": "65115958-4ae6-4c5a-996f-f388bc47402f",
   "metadata": {},
   "source": [
    "# Organizing Files\n",
    "\n",
    "Description: This notebook demonstrates common file system operations.\n",
    "\n",
    "Useful prior knowledge\n",
    "* Handle on Python fundamenetals: loops, if statements, string operations, and data structures (lists, dictionaries), and exception handling (try-except)\n",
    "* See chapters 1-6 of [https://automatetheboringstuff.com](https://automatetheboringstuff.com)\n",
    "\n",
    "### Outline\n",
    "\n",
    "[File System Path Handling](#File-System-Path-Handling)\n",
    "* os module - operating system utilities\n",
    "* pathlib- object-oriented file system paths\n",
    "\n",
    "[Reading and writing files](#Reading-and-writing-files)\n",
    "* Reading and writing files\n",
    "* Reading large files\n",
    "* Note on with statement (a.k.a., context manager)\n",
    "\n",
    "[More file operations](#More-file-operations)\n",
    "* Renaming a file\n",
    "* Copying a file\n",
    "* Moving a file\n",
    "* Removing files with os.remove(path)\n",
    "\n",
    "[Pattern Matching](#Pattern-Matching)\n",
    "* sample of string operations\n",
    "* regular expressions with re module\n",
    "\n",
    "[More directory operations](#More-directory-operations)\n",
    "* make a directory\n",
    "* copy a directory tree\n",
    "* remove a directory tree\n",
    "\n",
    "[Inventory a directory](#Inventory-a-directory)\n",
    "* Display contents of a directory (non-recursive, non-inclusive of subdirectories) using os.listdir()\n",
    "* Display contents (including subdirectories) with os.walk()\n",
    "* Get file statistics\n",
    "* Display inventory with pandas and prep for export (CSV, Excel)\n",
    "* Pulling it all together. Walk a directory and collect the file statistics.\n",
    "\n",
    "[Working with ZIP Files](#Working-with-ZIP-Files)\n",
    "* Create and add to ZIP file\n",
    "* Read contents and file info\n",
    "* Extract contents with ZipFile.extract_all() or ZipFile.extract()\n",
    "\n",
    "### Tips\n",
    "* Use backups. It's easy to miss subtle errors and irreversibly move or rename files in a way that may be impossible to undo.\n",
    "* Use print() statements to test a dry run first.\n",
    "* Notepad++ for searching across files and directories\n",
    "\n",
    "### Further Reading\n",
    "* https://automatetheboringstuff.com\n",
    "    * Chapter 7 – Pattern Matching with Regular Expressions\n",
    "    * Chapter 9 – Reading and Writing Files\n",
    "    * Chapter 10 – Organizing Files\n",
    "* Python standard library documentation\n",
    "    * https://docs.python.org/3/library/index.html\n",
    "    * Use `help(<object_name>)` in Python or search `python docs <object_name>` for detailed documention. \n",
    "    * E.g., `>>> help(os.walk)`, `>>> help(shutil.copy2)`).\n"
   ]
  },
  {
   "cell_type": "code",
   "execution_count": 1,
   "id": "03b2354a-35bf-46be-b272-9d91092aca00",
   "metadata": {
    "tags": []
   },
   "outputs": [],
   "source": [
    "from pathlib import Path\n",
    "import os\n",
    "import re\n",
    "import shutil\n",
    "\n",
    "import pandas as pd                 # $ python -m pip install pandas\n",
    "from file_utils import file_utils   # imports ./file_utils/file_utils.py\n",
    "\n",
    "pd.set_option('max_colwidth', None)\n",
    "pd.set_option('max_rows', 1000)"
   ]
  },
  {
   "cell_type": "markdown",
   "id": "05e34d7a-1053-4a61-a9e3-0d5a6fbcd99f",
   "metadata": {},
   "source": [
    "### File System Path Handling"
   ]
  },
  {
   "cell_type": "code",
   "execution_count": 2,
   "id": "965104c7-402e-4666-b22a-0884e7b74c81",
   "metadata": {},
   "outputs": [
    {
     "name": "stdout",
     "output_type": "stream",
     "text": [
      "c:\\users\\user\\file.txt\n",
      "c:\\users\\user\\file.txt\n"
     ]
    }
   ],
   "source": [
    "# backslash is an escape character in many languages but on Windows OS, it is the path separator \n",
    "\n",
    "# use double backslash to represent a single backslash in a string\n",
    "filepath = 'c:\\\\users\\\\user\\\\file.txt'\n",
    "print(filepath)\n",
    "\n",
    "# or use raw string prefix (r'')\n",
    "filepath = r'c:\\users\\user\\file.txt'\n",
    "print(filepath)"
   ]
  },
  {
   "cell_type": "code",
   "execution_count": 3,
   "id": "51c57f77-3a3b-4a1b-831c-ea7432b94f13",
   "metadata": {},
   "outputs": [
    {
     "data": {
      "text/plain": [
       "['c:', 'users', 'user', 'file.txt']"
      ]
     },
     "execution_count": 3,
     "metadata": {},
     "output_type": "execute_result"
    }
   ],
   "source": [
    "# manually splitting strings into components\n",
    "filepath.split('\\\\')"
   ]
  },
  {
   "cell_type": "code",
   "execution_count": 4,
   "id": "4baac5c0-1154-455d-9f02-467836492b9f",
   "metadata": {},
   "outputs": [
    {
     "name": "stdout",
     "output_type": "stream",
     "text": [
      "['file', 'txt']\n",
      "file\n"
     ]
    }
   ],
   "source": [
    "# split into string into a list on a delimeter\n",
    "print('file.txt'.split('.'))\n",
    "\n",
    "\n",
    "# assign filename to variable\n",
    "filename = 'file.txt'.split('.')[0]\n",
    "print(filename)"
   ]
  },
  {
   "cell_type": "markdown",
   "id": "7225afec-5e08-46ed-911a-6602c6f1eaf3",
   "metadata": {},
   "source": [
    "`os` and `pathlib` module cover many common utilities in a more readable and less error-prone manner."
   ]
  },
  {
   "cell_type": "markdown",
   "id": "5cec3afa-bb4e-4c63-a8cb-8de32aa7fb90",
   "metadata": {},
   "source": [
    "### `os` module - operating system utilities"
   ]
  },
  {
   "cell_type": "code",
   "execution_count": 5,
   "id": "2e932a60-2e9d-4493-b95b-8faf283bed2a",
   "metadata": {},
   "outputs": [
    {
     "name": "stdout",
     "output_type": "stream",
     "text": [
      "filepath: c:\\users\\user\\file.txt\n",
      "basename: file.txt\n",
      "dirname: c:\\users\\user\n",
      "full_path: c:\\users\\user\\file.txt\n"
     ]
    }
   ],
   "source": [
    "filepath = r'c:\\users\\user\\file.txt'\n",
    "basename = os.path.basename(filepath)\n",
    "dirname = os.path.dirname(filepath)\n",
    "full_path = os.path.join(r'c:\\users\\user', 'file.txt')\n",
    "\n",
    "print('filepath:', filepath)\n",
    "print('basename:', basename)\n",
    "print('dirname:', dirname)\n",
    "print('full_path:', full_path)"
   ]
  },
  {
   "cell_type": "code",
   "execution_count": 6,
   "id": "0993cc52-e55f-4bbe-a36a-ee178b4bab99",
   "metadata": {},
   "outputs": [
    {
     "name": "stdout",
     "output_type": "stream",
     "text": [
      "C:\\Users\\pzuradzki\\Code\\_unordered\\demo-organizing-files\n",
      "C:\\Users\\pzuradzki\\Code\\_unordered\n",
      "C:\\Users\\pzuradzki\\Code\\_unordered\\demo-organizing-files\n"
     ]
    }
   ],
   "source": [
    "# getcwd() -> get Current Working Directory\n",
    "# chdir() -> change directory\n",
    "\n",
    "print(os.getcwd())\n",
    "os.chdir('..')\n",
    "\n",
    "print(os.getcwd())\n",
    "os.chdir('./demo-organizing-files')\n",
    "\n",
    "print(os.getcwd())"
   ]
  },
  {
   "cell_type": "markdown",
   "id": "0d1d9291-b1c5-4d9d-beb9-09189596d8ef",
   "metadata": {},
   "source": [
    "### `pathlib`- object-oriented file system paths\n",
    "\n",
    "* Treat paths like custom objects/data structures rather than strings or outputs of functions.\n",
    "* Operator overloading of `/` division operator to represent path separator\n",
    "* OS-agnostic path objects that assures of the correct path format. PosixPath on Mac/Linux. WindowsPath on Windows."
   ]
  },
  {
   "cell_type": "code",
   "execution_count": 7,
   "id": "21458773-c50f-4bb6-9544-a12935bf67a1",
   "metadata": {},
   "outputs": [
    {
     "data": {
      "text/plain": [
       "WindowsPath('c:/users/user/files.txt')"
      ]
     },
     "execution_count": 7,
     "metadata": {},
     "output_type": "execute_result"
    }
   ],
   "source": [
    "from pathlib import Path\n",
    "\n",
    "filepath = Path(r'c:\\users\\user\\files.txt')\n",
    "filepath"
   ]
  },
  {
   "cell_type": "code",
   "execution_count": 8,
   "id": "9c704137-4629-4888-9b09-bce4c726aa7f",
   "metadata": {},
   "outputs": [
    {
     "name": "stdout",
     "output_type": "stream",
     "text": [
      "C:\\Users\\pzuradzki\\Code\\_unordered\\demo-organizing-files\\file_utils.py\n",
      "WindowsPath('C:/Users/pzuradzki/Code/_unordered/demo-organizing-files/file_utils.py')\n",
      "file_utils.py\n",
      "C:\\Users\\pzuradzki\\Code\\_unordered\\demo-organizing-files\n",
      "False\n",
      "False\n"
     ]
    }
   ],
   "source": [
    "filepath = Path(os.getcwd()) / 'file_utils.py'\n",
    "\n",
    "print(filepath)\n",
    "print(repr(filepath))\n",
    "print(filepath.name)\n",
    "print(filepath.parent)\n",
    "print(filepath.is_dir())\n",
    "print(filepath.is_file())"
   ]
  },
  {
   "cell_type": "code",
   "execution_count": 9,
   "id": "df89f248-8a32-4043-84a8-c0cd08951c22",
   "metadata": {},
   "outputs": [
    {
     "name": "stdout",
     "output_type": "stream",
     "text": [
      "c:\\users\\user\\subdirectory\\files.txt\n"
     ]
    }
   ],
   "source": [
    "# operator overloading with '/' symbol\n",
    "directory = Path(r'c:\\users\\user')\n",
    "filepath = directory / 'subdirectory/files.txt'\n",
    "print(filepath)"
   ]
  },
  {
   "cell_type": "markdown",
   "id": "a58479c1-102d-418a-8170-cb079ec1a161",
   "metadata": {},
   "source": [
    "### Reading and writing files\n",
    "* Reading and writing files\n",
    "* Reading large files\n",
    "* Note on with statement (a.k.a., context manager)"
   ]
  },
  {
   "cell_type": "markdown",
   "id": "70cc3624-6055-4f8f-b8cb-33a3fba1e8b3",
   "metadata": {},
   "source": [
    "### Reading and writing files"
   ]
  },
  {
   "cell_type": "code",
   "execution_count": 10,
   "id": "390220da-b14c-44c3-ba0d-6a3993a76c7a",
   "metadata": {},
   "outputs": [],
   "source": [
    "with open('test_file.txt', 'w') as f:\n",
    "    f.write('qty,price\\n1,2\\n3,4\\n')"
   ]
  },
  {
   "cell_type": "code",
   "execution_count": 11,
   "id": "97209059-18a5-4258-9cc3-35cea1cd6ebe",
   "metadata": {},
   "outputs": [],
   "source": [
    "with open('test_file.txt', 'a') as f:\n",
    "    f.write('4,5\\n6,7')"
   ]
  },
  {
   "cell_type": "code",
   "execution_count": 12,
   "id": "298bbca7-9777-4c9a-ba5c-2b065f50257c",
   "metadata": {},
   "outputs": [
    {
     "name": "stdout",
     "output_type": "stream",
     "text": [
      "qty,price\n",
      "1,2\n",
      "3,4\n",
      "4,5\n",
      "6,7\n",
      "\n",
      "['qty,price\\n', '1,2\\n', '3,4\\n', '4,5\\n', '6,7']\n"
     ]
    }
   ],
   "source": [
    "with open('test_file.txt', 'r') as f:\n",
    "    data_as_str = f.read()\n",
    "        \n",
    "with open('test_file.txt', 'r') as f:\n",
    "    data_as_list = f.readlines()\n",
    "\n",
    "print(data_as_str)\n",
    "print()\n",
    "print(data_as_list)"
   ]
  },
  {
   "cell_type": "code",
   "execution_count": 13,
   "id": "bbe1a1e5-8143-44fb-8b51-ad8bc0c2d7f0",
   "metadata": {},
   "outputs": [],
   "source": [
    "# in pracitce, using built-in csv module or pandas is less error-prone than manually writing strings to a file\n",
    "# these libraries take care of many subtle complications like quotes, escape characters, data types (1 vs '1'), and performance (pandas)\n",
    "\n",
    "import csv\n",
    "\n",
    "with open('test_csv.csv', 'w', newline='') as f:\n",
    "    writer = csv.writer(f, delimiter=',')\n",
    "    data = [['qty','price'], [1,2], [3,4]]\n",
    "    for row in data:\n",
    "        writer.writerow(row)"
   ]
  },
  {
   "cell_type": "code",
   "execution_count": 14,
   "id": "ee5b85a8-aff3-4e99-b6d0-c682f866149d",
   "metadata": {},
   "outputs": [
    {
     "name": "stdout",
     "output_type": "stream",
     "text": [
      "qty,price\n",
      "1,2\n",
      "3,4\n"
     ]
    }
   ],
   "source": [
    "with open('test_csv.csv', 'r') as f:\n",
    "    reader = csv.reader(f)\n",
    "    for row in reader:\n",
    "        print(','.join(row))"
   ]
  },
  {
   "cell_type": "markdown",
   "id": "546fc645-975b-4a87-acbe-8fb0543826c6",
   "metadata": {},
   "source": [
    "### Reading large files\n",
    "\n",
    "Sometimes, you simply want to inspect a file for initial exploration and don't want to read the whole file into memory. Perhaps you want a row count.\n",
    "\n",
    "The Python file handler returns a generator object, which means that we can iterate through a file one element at a time without loading everything into RAM memory."
   ]
  },
  {
   "cell_type": "code",
   "execution_count": 15,
   "id": "d247fcad-fb95-48df-ae70-36417d71c628",
   "metadata": {},
   "outputs": [],
   "source": [
    "import numpy as np\n",
    "\n",
    "with open('big_file.txt', 'w') as f:\n",
    "    for n in range(100_000):\n",
    "        data = np.random.rand(5).round(2).tolist()\n",
    "        f.write(str(data)[1:-1])\n",
    "        f.write('\\n')"
   ]
  },
  {
   "cell_type": "code",
   "execution_count": 16,
   "id": "0dcfa4d3-dcea-4782-885b-b2526b5ebd01",
   "metadata": {},
   "outputs": [
    {
     "name": "stdout",
     "output_type": "stream",
     "text": [
      "0.69, 0.01, 0.97, 0.15, 0.79\n",
      "0.32, 0.28, 0.63, 0.59, 0.14\n",
      "0.99, 0.88, 0.0, 0.79, 0.4\n",
      "0.61, 0.37, 0.55, 0.4, 0.92\n",
      "0.61, 0.74, 0.93, 0.33, 0.59\n",
      "0.96, 0.02, 0.41, 0.85, 0.11\n",
      "0.71, 0.47, 0.03, 0.55, 0.7\n",
      "0.81, 0.64, 0.29, 0.53, 0.02\n",
      "0.47, 0.46, 0.43, 0.89, 0.3\n",
      "0.46, 0.67, 0.04, 0.9, 0.36\n"
     ]
    }
   ],
   "source": [
    "# peak at first N rows without reading entire file\n",
    "\n",
    "with open('big_file.txt', 'r') as f:\n",
    "    for row in range(10):\n",
    "        print(f.readline(), end='')"
   ]
  },
  {
   "cell_type": "code",
   "execution_count": 17,
   "id": "d66543fd-704a-4ca6-b6f5-a9bf498c9258",
   "metadata": {},
   "outputs": [
    {
     "name": "stdout",
     "output_type": "stream",
     "text": [
      "100000\n"
     ]
    }
   ],
   "source": [
    "# get row count without reading entire file into memory\n",
    "\n",
    "row_count = 0\n",
    "\n",
    "with open('big_file.txt', 'r') as f:\n",
    "    for row in f:\n",
    "        row_count = row_count + 1\n",
    "\n",
    "print(row_count)"
   ]
  },
  {
   "cell_type": "markdown",
   "id": "5eac277a-4943-4ff9-a9c6-ecab935fc291",
   "metadata": {},
   "source": [
    "### Note on `with` statement (a.k.a., context manager)\n",
    "\n",
    "The `with` block was introduced to Python assist handling objects that require some sort of setup or teardown.\n",
    "Ex: opening and closing a file, connecting and disconnecting from a database.\n",
    "\n",
    "It is a form of syntax sugar/convenience but it is recommended to indicate (1) a setup/teardown context is involved and (2) it helps avoid loose ends such as failing to close a file or connection, which can waste memory or have unintended consequences. For example, `with` enables avoiding access to an unavailable resource. Ex: a file might be opened, an error occurs, and it is never closed. It lessens the need to re-write exception-handling.\n",
    "\n",
    "The following are equivalent:\n",
    "```python\n",
    "# Simple open() and close(). Not idiomatic.\n",
    "f = open('test_file.txt', 'r')\n",
    "print(f.read())\n",
    "f.close()\n",
    "\n",
    "# Using context manager\n",
    "with open('test_file.txt', 'r') as f:\n",
    "    print(f.read())\n",
    "```"
   ]
  },
  {
   "cell_type": "markdown",
   "id": "f2105be8-4bb6-466b-9c54-af39a147af93",
   "metadata": {},
   "source": [
    "### More file operations\n",
    "* Renaming a file\n",
    "* Copying a file\n",
    "* Moving a file"
   ]
  },
  {
   "cell_type": "code",
   "execution_count": 18,
   "id": "357e19d4-6630-4431-b459-cacde2c07e6f",
   "metadata": {},
   "outputs": [],
   "source": [
    "import os\n",
    "from pathlib import Path\n",
    "import shutil\n",
    "\n",
    "# create a file then rename\n",
    "    # catch exception if file already exists and continue\n",
    "with open('a_file.txt', 'w') as f:\n",
    "    f.write('File contents.')\n",
    "\n",
    "try:\n",
    "    os.rename('a_file.txt', 'a_file_renamed.txt')\n",
    "except FileExistsError as err:\n",
    "    print(err)\n",
    "\n",
    "# copy a file. copy2() (vs copy) includes file metadata (e.g., owner, create date).\n",
    "shutil.copy2(src='a_file_renamed.txt', dst='a_file_copy.txt')\n",
    "\n",
    "# make a directory and continue if it already exists\n",
    "    # can also use os.mkdir('foo_dir') with try-except for same effect\n",
    "Path('foo_dir').mkdir(exist_ok=True)\n",
    "\n",
    "\n",
    "# create a file then move it\n",
    "with open('a_file.txt', 'w') as f:\n",
    "    f.write('File contents.')\n",
    "    \n",
    "_ = shutil.move(src='a_file.txt', dst='foo_dir/a_file_copy.txt')"
   ]
  },
  {
   "cell_type": "markdown",
   "id": "e1910537-8839-4df5-8c63-445d82428087",
   "metadata": {},
   "source": [
    "### Removing files with `os.remove(path)`"
   ]
  },
  {
   "cell_type": "code",
   "execution_count": 19,
   "id": "72c8e66a-460f-4450-8d8d-0b2976440271",
   "metadata": {},
   "outputs": [],
   "source": [
    "# loop through list of files in current directory returned by os.listidir()\n",
    "# if the file name ends with 'csv' or 'txt', we remove it\n",
    "for file in os.listdir():\n",
    "    if file.endswith('.csv') or file.endswith('.txt'):\n",
    "        os.remove(file)"
   ]
  },
  {
   "cell_type": "markdown",
   "id": "6c5f34b6-e612-4895-97d1-e102e9141a15",
   "metadata": {},
   "source": [
    "### Pattern Matching\n",
    "* sample of string operations\n",
    "* regular expressions with `re` module"
   ]
  },
  {
   "cell_type": "code",
   "execution_count": 20,
   "id": "f92e53fa-96cd-4315-8998-7e75eb58c66a",
   "metadata": {},
   "outputs": [],
   "source": [
    "'.TXT'.lower()              # => 'txt'\n",
    "'.json'.upper()             # => 'JSON'\n",
    "'txt' in 'file.txt'         # => True\n",
    "'file.txt'.endswith('txt')  # => True\n",
    "'file.txt'.split('.')       # => ['file', 'txt']\n",
    "'file.txt'.split('.')[0]    # => 'file'\n",
    "\n",
    "pass"
   ]
  },
  {
   "cell_type": "code",
   "execution_count": 21,
   "id": "ddcba217-9d01-4d2e-93b7-c6e694712917",
   "metadata": {},
   "outputs": [
    {
     "name": "stdout",
     "output_type": "stream",
     "text": [
      "20220101_file.txt\n",
      "('20220101', '_file.txt')\n",
      "\n",
      "20201212_file.txt\n",
      "('20201212', '_file.txt')\n",
      "\n",
      "2020_file.txt\n",
      "('2020', '_file.txt')\n",
      "\n",
      "file.txt\n",
      "\n"
     ]
    }
   ],
   "source": [
    "import re\n",
    "\n",
    "s1 = '20220101_file.txt'\n",
    "s2 = '20201212_file.txt'\n",
    "s3 = '2020_file.txt'\n",
    "s4 = 'file.txt'\n",
    "\n",
    "rgx = re.compile(r'(\\d\\d\\d\\d\\d?\\d?\\d?\\d?)(.*)')\n",
    "\n",
    "for s in [s1, s2, s3, s4]:\n",
    "    print(s)\n",
    "    if match:=rgx.search(s):\n",
    "            print(match.groups())\n",
    "    print()"
   ]
  },
  {
   "cell_type": "markdown",
   "id": "cc3ec771-15c0-468a-8fcb-2bfd41e6c03e",
   "metadata": {},
   "source": [
    "**Pattern Matching with Regular Expressions**\n",
    "\n",
    "More complicated patterns can be captured using a small-but-powerful text processing language known as regular expressions.\n",
    "\n",
    "Resources for more depth:\n",
    "* https://automatetheboringstuff.com/chapter7\n",
    "* https://regex101.com"
   ]
  },
  {
   "cell_type": "code",
   "execution_count": 22,
   "id": "617d0d24-7d18-4482-b875-29283f6ab8a7",
   "metadata": {},
   "outputs": [
    {
     "name": "stdout",
     "output_type": "stream",
     "text": [
      "id01_foo_file_20220101.txt\n",
      "('id01', '2022', '01', '01', 'txt')\n",
      "\n",
      "id02_bar_2022-01-01.csv\n",
      "('id02', '2022', '01', '01', 'csv')\n",
      "\n",
      "id03_yow_file_filler_fill_fill_2022.01.01.txt\n",
      "('id03', '2022', '01', '01', 'txt')\n",
      "\n",
      "oddball.json => no match\n",
      "oddball.txt => no match\n"
     ]
    }
   ],
   "source": [
    "import re\n",
    "\n",
    "# objective: capture the id prefix, separated year/month/day, and file extension for CSV or TXT files matching the pattern\n",
    "    # note that we cannot split on '_' underscore because there can be an arbitrary #\n",
    "    # say we want to capture only patterns like the first 3 strings\n",
    "    \n",
    "s1 = 'id01_foo_file_20220101.txt'\n",
    "s2 = 'id02_bar_2022-01-01.csv'\n",
    "s3 = 'id03_yow_file_filler_fill_fill_2022.01.01.txt'\n",
    "s4 = 'oddball.json'\n",
    "s5 = 'oddball.txt'\n",
    "\n",
    "rgx = re.compile(r'''\n",
    "([^_]+)    # id\n",
    ".*         # filler\n",
    "(\\d\\d\\d\\d) # year\n",
    ".*?        # optional date separator\n",
    "(\\d\\d)     # month\n",
    ".*?        # optional date separator\n",
    "(\\d\\d)     # day\n",
    ".(txt|csv) # file extension\n",
    "''', re.VERBOSE)\n",
    "\n",
    "for s in [s1, s2, s3, s4, s5]:\n",
    "    if match:=rgx.search(s):\n",
    "        print(s)\n",
    "        print(match.groups())\n",
    "        print()\n",
    "    else:\n",
    "        print(f\"{s} => no match\")"
   ]
  },
  {
   "cell_type": "code",
   "execution_count": 23,
   "id": "c33af83b-950d-4002-b4d0-76a18aab8451",
   "metadata": {},
   "outputs": [
    {
     "name": "stdout",
     "output_type": "stream",
     "text": [
      "id01_foo_file_20220101.txt\n",
      "id02_bar_2022-01-01.csv\n",
      "id03_yow_file_filler_fill_fill_2022.01.01.txt\n",
      "oddball.json\n",
      "oddball.txt\n"
     ]
    }
   ],
   "source": [
    "for s in [s1, s2, s3, s4, s5]:\n",
    "    print(s)"
   ]
  },
  {
   "cell_type": "markdown",
   "id": "aa8185e3-16a0-4fc3-b02b-b2236b38f371",
   "metadata": {},
   "source": [
    "### More directory operations\n",
    "* make a directory\n",
    "* copy a directory tree\n",
    "* remove a directory tree"
   ]
  },
  {
   "cell_type": "code",
   "execution_count": 24,
   "id": "f562b735-9281-464d-b95a-416c4dacbdf2",
   "metadata": {},
   "outputs": [],
   "source": [
    "# makes a directory\n",
    "    # exist_ok=False by default. This will raise and Exception / halt the program if the directory already exists.\n",
    "    # Setting exist_ok=True will ignore the FileExists exception and skip making a new directory. \n",
    "    # In other words, setting exist_ok=True, this method safely avoids replacing contents of a directory inadvertently.\n",
    "Path('new_directory').mkdir(exist_ok=True)\n",
    "    \n",
    "# removes directory including it's contents (careful with this; there is no \"undo\")\n",
    "shutil.rmtree('new_directory')\n",
    "\n",
    "Path('new_directory').mkdir(exist_ok=True)\n",
    "Path(r'new_directory/subdirectory').mkdir(exist_ok=True)\n",
    "with open(r'new_directory/subdirectory/file.txt', 'w') as f:\n",
    "    f.write('hello')\n",
    "\n",
    "\n",
    "try:\n",
    "    shutil.copytree('new_directory', 'new_directory_copied')\n",
    "except FileExistsError as err:\n",
    "    print(err)"
   ]
  },
  {
   "cell_type": "code",
   "execution_count": 25,
   "id": "c43045e5-66dd-41d7-a136-ed03c282f684",
   "metadata": {},
   "outputs": [],
   "source": [
    "for path in ['new_directory', 'new_directory_copied', 'foo_dir']:\n",
    "    #print(path)\n",
    "    \n",
    "    try:\n",
    "        shutil.rmtree(path) \n",
    "    except FileNotFoundError as err:\n",
    "        print(err)"
   ]
  },
  {
   "cell_type": "markdown",
   "id": "f0e1cbcb-28c0-4a09-affb-0a0d4d5ed28e",
   "metadata": {},
   "source": [
    "# Inventory a directory"
   ]
  },
  {
   "cell_type": "markdown",
   "id": "f499449c-8a04-48d1-a6c4-855a430a8783",
   "metadata": {},
   "source": [
    "### Make dummy data/files\n",
    "\n",
    "Make a nested directory 2-levels deep. Outer loop creates 3 directories and 3 files. Inner loop creates 3 subdirectories and 3 files per directory."
   ]
  },
  {
   "cell_type": "code",
   "execution_count": 26,
   "id": "37bc38f2-542f-4bb8-9aad-d667c91e9f69",
   "metadata": {},
   "outputs": [],
   "source": [
    "Path('./root').mkdir(exist_ok=True)\n",
    "\n",
    "for i in range(1,4):    \n",
    "    directory = Path(fr'./root/dir_{str(i).zfill(2)}')\n",
    "    directory.mkdir(exist_ok=True)\n",
    "    \n",
    "    with open(directory / fr'file_{str(i).zfill(2)}.txt', 'w') as f:\n",
    "        f.write(\"Hello, I'm a file.\")\n",
    "        \n",
    "    for j in range(1,4):        \n",
    "        subdirectory = directory / f'subdir_{str(j).zfill(2)}'\n",
    "        subdirectory.mkdir(exist_ok=True)\n",
    "        \n",
    "        with open(subdirectory / fr'file_{str(i).zfill(2)}.txt', 'w') as f:\n",
    "            f.write(\"Hello, I'm a file.\")\n",
    "\n",
    "Path(r'./root').mkdir(exist_ok=True)\n",
    "\n",
    "# call shutil.rmtree to remove entire directory and contents\n",
    "# shutil.rmtree('./root')"
   ]
  },
  {
   "cell_type": "markdown",
   "id": "67295026-8304-4dbd-ac9d-e0b1ed59eeae",
   "metadata": {},
   "source": [
    "### Display contents of a directory (non-recursive, non-inclusive of subdirectories) using `os.listdir()`\n",
    "\n",
    "`os.listdir()` returns a list, which is useful for cataloging."
   ]
  },
  {
   "cell_type": "code",
   "execution_count": 27,
   "id": "bf0a2409-ccc0-4f8e-b2a8-5fdfa0b48bde",
   "metadata": {},
   "outputs": [
    {
     "name": "stdout",
     "output_type": "stream",
     "text": [
      "['dir_01', 'dir_02', 'dir_03']\n",
      "['.ipynb_checkpoints', 'file_utils', 'organizing_files.ipynb', 'root', '__pycache__']\n"
     ]
    }
   ],
   "source": [
    "# list contents of the root folder in the current directory ('.'=current directory)\n",
    "print(os.listdir('./root'))\n",
    "print(os.listdir('.'))"
   ]
  },
  {
   "cell_type": "markdown",
   "id": "47a73e39-ac61-46e6-ba2f-c407490e922e",
   "metadata": {},
   "source": [
    "### Display contents (including subdirectories) with `os.walk()`\n",
    "\n",
    "**`os.walk(top_directory_path)`**: Directory tree generator. A \"generator\" is a special Python object that is iterable. Unlike other iterable containers/collections/structures like a list or dictionary, a generator is consumed one at a time. The contents of the generator are not stored in memory simultaneously which can be useful for memory efficiency.\n",
    "\n",
    "\n",
    "Unlike `os.listdir()` which returns a list, we must build up our own data structure for os.walk() depending on what we want to include."
   ]
  },
  {
   "cell_type": "code",
   "execution_count": 28,
   "id": "eb8ac596-3b7c-4706-a085-4dbf47872d4c",
   "metadata": {},
   "outputs": [
    {
     "name": "stdout",
     "output_type": "stream",
     "text": [
      "root\\dir_01\n",
      "root\\dir_02\n",
      "root\\dir_03\n",
      "root\\dir_01\\file_01.txt\n",
      "root\\dir_01\\subdir_01\n",
      "root\\dir_01\\subdir_02\n",
      "root\\dir_01\\subdir_03\n",
      "root\\dir_01\\subdir_01\\file_01.txt\n",
      "root\\dir_01\\subdir_02\\file_01.txt\n",
      "root\\dir_01\\subdir_03\\file_01.txt\n",
      "root\\dir_02\\file_02.txt\n",
      "root\\dir_02\\subdir_01\n",
      "root\\dir_02\\subdir_02\n",
      "root\\dir_02\\subdir_03\n",
      "root\\dir_02\\subdir_01\\file_02.txt\n",
      "root\\dir_02\\subdir_02\\file_02.txt\n",
      "root\\dir_02\\subdir_03\\file_02.txt\n",
      "root\\dir_03\\file_03.txt\n",
      "root\\dir_03\\subdir_01\n",
      "root\\dir_03\\subdir_02\n",
      "root\\dir_03\\subdir_03\n",
      "root\\dir_03\\subdir_01\\file_03.txt\n",
      "root\\dir_03\\subdir_02\\file_03.txt\n",
      "root\\dir_03\\subdir_03\\file_03.txt\n"
     ]
    }
   ],
   "source": [
    "# walk the entire `root` directory and subdirectory\n",
    "    # try commenting out one of the loops to target only files or directories\n",
    "    # note that we have to join the root path with the filename to get the full file path \n",
    "    # (else we'll have a filename and not know where it came from)\n",
    "    # rathern than print, we can append these to a list or build a dictionary\n",
    "\n",
    "root_dir = Path('./root')\n",
    "\n",
    "for root, dirs, files in os.walk(root_dir):\n",
    "    for f in files:\n",
    "        print(Path(root)/f)\n",
    "    for d in dirs:\n",
    "        print(Path(root)/d)"
   ]
  },
  {
   "cell_type": "markdown",
   "id": "484fd426-1fbb-4b9c-83ab-1820b0f3d8ca",
   "metadata": {},
   "source": [
    "### Get file statistics\n",
    "\n",
    "```\n",
    "os.stat_result object may be accessed either as a tuple of\n",
    "      (mode, ino, dev, nlink, uid, gid, size, atime, mtime, ctime)\n",
    "    or via the attributes st_mode, st_ino, st_dev, st_nlink, st_uid, and so on.\n",
    "```"
   ]
  },
  {
   "cell_type": "code",
   "execution_count": 29,
   "id": "a26ed753-20e0-47da-887b-1d1bfa155232",
   "metadata": {},
   "outputs": [
    {
     "data": {
      "text/plain": [
       "os.stat_result(st_mode=33206, st_ino=32932572275263565, st_dev=875114692, st_nlink=1, st_uid=0, st_gid=0, st_size=18, st_atime=1642005006, st_mtime=1642005006, st_ctime=1642005006)"
      ]
     },
     "execution_count": 29,
     "metadata": {},
     "output_type": "execute_result"
    }
   ],
   "source": [
    "filepath = Path(r'root\\dir_03\\subdir_01\\file_03.txt')\n",
    "stat_result = os.stat(filepath)\n",
    "stat_result"
   ]
  },
  {
   "cell_type": "code",
   "execution_count": 30,
   "id": "a74eccf2-51ff-4f94-a9c8-e07452b867fb",
   "metadata": {},
   "outputs": [
    {
     "name": "stdout",
     "output_type": "stream",
     "text": [
      "18\n",
      "1642005006.6217597\n"
     ]
    }
   ],
   "source": [
    "# attribute access with dot operator\n",
    "print(stat_result.st_size)\n",
    "print(stat_result.st_mtime)"
   ]
  },
  {
   "cell_type": "code",
   "execution_count": 31,
   "id": "756d08de-556c-426d-984b-05800e584d2d",
   "metadata": {},
   "outputs": [
    {
     "name": "stdout",
     "output_type": "stream",
     "text": [
      "18\n",
      "1642005006\n"
     ]
    }
   ],
   "source": [
    "# tuple unpacking -> separate variables per statistic\n",
    "mode, ino, dev, nlink, uid, gid, size, atime, mtime, ctime = stat_result\n",
    "print(size)\n",
    "print(mtime)"
   ]
  },
  {
   "cell_type": "markdown",
   "id": "188f3950-a065-4525-8187-427355bb5e96",
   "metadata": {},
   "source": [
    "**Sidenote demo on tuple unpacking**"
   ]
  },
  {
   "cell_type": "code",
   "execution_count": 32,
   "id": "dc54b3f5-80b7-4646-8f7d-cdcf64f50493",
   "metadata": {},
   "outputs": [
    {
     "name": "stdout",
     "output_type": "stream",
     "text": [
      "1 2 3\n",
      "1 2 3\n"
     ]
    }
   ],
   "source": [
    "# these have the same effect\n",
    "\n",
    "# tuple unpacking\n",
    "x, y, z = (1, 2, 3)\n",
    "print(x,y,z)\n",
    "\n",
    "# variable assignment\n",
    "a_tuple = (1, 2, 3)\n",
    "x = a_tuple[0]\n",
    "y = a_tuple[1]\n",
    "z = a_tuple[2]\n",
    "print(x,y,z)"
   ]
  },
  {
   "cell_type": "code",
   "execution_count": 33,
   "id": "239e703b-2e94-432e-879b-f283c09dc360",
   "metadata": {},
   "outputs": [
    {
     "data": {
      "text/plain": [
       "{'path': WindowsPath('root/dir_03/subdir_01/file_03.txt'),\n",
       " 'name': 'file_03.txt',\n",
       " 'parent': WindowsPath('root/dir_03/subdir_01'),\n",
       " 'size_mb': 0.0,\n",
       " 'modified_dt': '2022.01.12-1030',\n",
       " 'create_dt': '2022.01.12-1030',\n",
       " 'owner': 'EVOLENTHEALTH/PZuradzki',\n",
       " 'is_file': 1,\n",
       " 'is_dir': 0}"
      ]
     },
     "execution_count": 33,
     "metadata": {},
     "output_type": "execute_result"
    }
   ],
   "source": [
    "# using a helper function to also format key statistics and convert to dictionary \n",
    "    # ex: epoch timestamp converted to localized YYYY.MM.DD-hhmm \n",
    "    # system owner user ID # converted to domain/username\n",
    "    # file size converted to megabytes\n",
    "\n",
    "filepath = Path(r'root\\dir_03\\subdir_01\\file_03.txt')\n",
    "file_utils.get_file_stats(filepath)"
   ]
  },
  {
   "cell_type": "markdown",
   "id": "b72d18d7-dfab-43e9-82ab-7acae3823935",
   "metadata": {},
   "source": [
    "### Display inventory with pandas and prep for export (CSV, Excel)"
   ]
  },
  {
   "cell_type": "code",
   "execution_count": 34,
   "id": "e59c4092-db09-4cc0-958b-7d7974c021ff",
   "metadata": {},
   "outputs": [
    {
     "data": {
      "text/html": [
       "<div>\n",
       "<style scoped>\n",
       "    .dataframe tbody tr th:only-of-type {\n",
       "        vertical-align: middle;\n",
       "    }\n",
       "\n",
       "    .dataframe tbody tr th {\n",
       "        vertical-align: top;\n",
       "    }\n",
       "\n",
       "    .dataframe thead th {\n",
       "        text-align: right;\n",
       "    }\n",
       "</style>\n",
       "<table border=\"1\" class=\"dataframe\">\n",
       "  <thead>\n",
       "    <tr style=\"text-align: right;\">\n",
       "      <th></th>\n",
       "      <th>path</th>\n",
       "      <th>name</th>\n",
       "      <th>parent</th>\n",
       "      <th>size_mb</th>\n",
       "      <th>modified_dt</th>\n",
       "      <th>create_dt</th>\n",
       "      <th>owner</th>\n",
       "      <th>is_file</th>\n",
       "      <th>is_dir</th>\n",
       "    </tr>\n",
       "  </thead>\n",
       "  <tbody>\n",
       "    <tr>\n",
       "      <th>0</th>\n",
       "      <td>root\\dir_01\\file_01.txt</td>\n",
       "      <td>file_01.txt</td>\n",
       "      <td>root\\dir_01</td>\n",
       "      <td>0.0</td>\n",
       "      <td>2022.01.12-1030</td>\n",
       "      <td>2022.01.12-1030</td>\n",
       "      <td>EVOLENTHEALTH/PZuradzki</td>\n",
       "      <td>1</td>\n",
       "      <td>0</td>\n",
       "    </tr>\n",
       "    <tr>\n",
       "      <th>1</th>\n",
       "      <td>root\\dir_03\\file_03.txt</td>\n",
       "      <td>file_03.txt</td>\n",
       "      <td>root\\dir_03</td>\n",
       "      <td>0.0</td>\n",
       "      <td>2022.01.12-1030</td>\n",
       "      <td>2022.01.12-1030</td>\n",
       "      <td>EVOLENTHEALTH/PZuradzki</td>\n",
       "      <td>1</td>\n",
       "      <td>0</td>\n",
       "    </tr>\n",
       "  </tbody>\n",
       "</table>\n",
       "</div>"
      ],
      "text/plain": [
       "                      path         name       parent  size_mb  \\\n",
       "0  root\\dir_01\\file_01.txt  file_01.txt  root\\dir_01      0.0   \n",
       "1  root\\dir_03\\file_03.txt  file_03.txt  root\\dir_03      0.0   \n",
       "\n",
       "       modified_dt        create_dt                    owner  is_file  is_dir  \n",
       "0  2022.01.12-1030  2022.01.12-1030  EVOLENTHEALTH/PZuradzki        1       0  \n",
       "1  2022.01.12-1030  2022.01.12-1030  EVOLENTHEALTH/PZuradzki        1       0  "
      ]
     },
     "execution_count": 34,
     "metadata": {},
     "output_type": "execute_result"
    }
   ],
   "source": [
    "import pandas as pd\n",
    "\n",
    "fp1 = Path(r'root\\dir_01\\file_01.txt')\n",
    "fp2 = Path(r'root\\dir_03\\file_03.txt')\n",
    "\n",
    "# file_utils.get_file_stats() returns a dictionary\n",
    "# stats_list is a list of dictionaries\n",
    "stats_list = [file_utils.get_file_stats(fp1),\n",
    "              file_utils.get_file_stats(fp2)]\n",
    "\n",
    "# pandas can convert from a list of dictionaries to a tabular format that we can display or export\n",
    "df = pd.DataFrame(stats_list)\n",
    "df"
   ]
  },
  {
   "cell_type": "markdown",
   "id": "2f75a93d-154d-49a7-bdc5-1db7dcc5de18",
   "metadata": {},
   "source": [
    "### Pulling it all together. Walk a directory *and* collect the file statistics."
   ]
  },
  {
   "cell_type": "code",
   "execution_count": 35,
   "id": "ef2f7317-d5cb-4462-80de-07605fa52ea4",
   "metadata": {},
   "outputs": [],
   "source": [
    "from pprint import pprint\n",
    "\n",
    "def make_file_inventory(root_dir: Path, as_df=False):    \n",
    "    \n",
    "    inventory = []\n",
    "\n",
    "    for root, dirs, files in os.walk(root_dir):\n",
    "        for f in files:\n",
    "            filepath = Path(root) / f\n",
    "            inventory.append(file_utils.get_file_stats(filepath))\n",
    "        for d in dirs:\n",
    "            dirpath = Path(root) / d\n",
    "            inventory.append(file_utils.get_file_stats(dirpath))\n",
    "            \n",
    "    if as_df:\n",
    "        return pd.DataFrame(inventory).sort_values(by=['is_file', 'path'])\n",
    "    \n",
    "    return inventory"
   ]
  },
  {
   "cell_type": "code",
   "execution_count": 36,
   "id": "468131c2-21bc-409d-9c5e-cbc5be7a755c",
   "metadata": {},
   "outputs": [
    {
     "name": "stdout",
     "output_type": "stream",
     "text": [
      "{'create_dt': '2022.01.12-1030',\n",
      " 'is_dir': 1,\n",
      " 'is_file': 0,\n",
      " 'modified_dt': '2022.01.12-1030',\n",
      " 'name': 'dir_01',\n",
      " 'owner': 'EVOLENTHEALTH/PZuradzki',\n",
      " 'parent': WindowsPath('root'),\n",
      " 'path': WindowsPath('root/dir_01'),\n",
      " 'size_mb': 0.0039}\n",
      "{'create_dt': '2022.01.12-1030',\n",
      " 'is_dir': 1,\n",
      " 'is_file': 0,\n",
      " 'modified_dt': '2022.01.12-1030',\n",
      " 'name': 'dir_02',\n",
      " 'owner': 'EVOLENTHEALTH/PZuradzki',\n",
      " 'parent': WindowsPath('root'),\n",
      " 'path': WindowsPath('root/dir_02'),\n",
      " 'size_mb': 0.0039}\n"
     ]
    }
   ],
   "source": [
    "inventory = make_file_inventory(Path('./root'))\n",
    "\n",
    "# peak at first two objects\n",
    "for file_obj in inventory[:2]:\n",
    "    pprint(file_obj)"
   ]
  },
  {
   "cell_type": "code",
   "execution_count": 37,
   "id": "889b7c4b-2feb-4324-96be-07c4459e9027",
   "metadata": {},
   "outputs": [],
   "source": [
    "df = make_file_inventory(Path('./root'), as_df=True)\n",
    "df.to_excel('./file_inventory.xlsx', index=False)\n",
    "# df.to_clipboard(index=False)"
   ]
  },
  {
   "cell_type": "code",
   "execution_count": 38,
   "id": "4a4024b6-d9ea-4a40-b5a0-7061f053e2af",
   "metadata": {},
   "outputs": [],
   "source": [
    "_df = df.head(10).copy()\n",
    "_df['owner'] = _df['owner'].str.replace(r'EVOLENTHEALTH', 'domain')"
   ]
  },
  {
   "cell_type": "code",
   "execution_count": 39,
   "id": "b53b6dba-1723-4c13-b393-31e5195647cd",
   "metadata": {},
   "outputs": [
    {
     "name": "stdout",
     "output_type": "stream",
     "text": [
      "| path                  | name      | parent      |   size_mb | modified_dt     | create_dt       | owner            |   is_file |   is_dir |\n",
      "|:----------------------|:----------|:------------|----------:|:----------------|:----------------|:-----------------|----------:|---------:|\n",
      "| root\\dir_01           | dir_01    | root        |    0.0039 | 2022.01.12-1030 | 2022.01.12-1030 | domain/PZuradzki |         0 |        1 |\n",
      "| root\\dir_01\\subdir_01 | subdir_01 | root\\dir_01 |    0      | 2022.01.12-1030 | 2022.01.12-1030 | domain/PZuradzki |         0 |        1 |\n",
      "| root\\dir_01\\subdir_02 | subdir_02 | root\\dir_01 |    0      | 2022.01.12-1030 | 2022.01.12-1030 | domain/PZuradzki |         0 |        1 |\n",
      "| root\\dir_01\\subdir_03 | subdir_03 | root\\dir_01 |    0      | 2022.01.12-1030 | 2022.01.12-1030 | domain/PZuradzki |         0 |        1 |\n",
      "| root\\dir_02           | dir_02    | root        |    0.0039 | 2022.01.12-1030 | 2022.01.12-1030 | domain/PZuradzki |         0 |        1 |\n",
      "| root\\dir_02\\subdir_01 | subdir_01 | root\\dir_02 |    0      | 2022.01.12-1030 | 2022.01.12-1030 | domain/PZuradzki |         0 |        1 |\n",
      "| root\\dir_02\\subdir_02 | subdir_02 | root\\dir_02 |    0      | 2022.01.12-1030 | 2022.01.12-1030 | domain/PZuradzki |         0 |        1 |\n",
      "| root\\dir_02\\subdir_03 | subdir_03 | root\\dir_02 |    0      | 2022.01.12-1030 | 2022.01.12-1030 | domain/PZuradzki |         0 |        1 |\n",
      "| root\\dir_03           | dir_03    | root        |    0.0039 | 2022.01.12-1030 | 2022.01.12-1030 | domain/PZuradzki |         0 |        1 |\n",
      "| root\\dir_03\\subdir_01 | subdir_01 | root\\dir_03 |    0      | 2022.01.12-1030 | 2022.01.12-1030 | domain/PZuradzki |         0 |        1 |\n"
     ]
    }
   ],
   "source": [
    "print(_df.to_markdown(index=False))"
   ]
  },
  {
   "cell_type": "markdown",
   "id": "00331625-f8c9-4068-b5a9-38bf6edba839",
   "metadata": {},
   "source": [
    "# Working with ZIP Files\n",
    "* Create and add to ZIP file\n",
    "* Read contents and file info\n",
    "* Extract contents with ZipFile.extract_all() or ZipFile.extract()"
   ]
  },
  {
   "cell_type": "markdown",
   "id": "28f28111-d234-461e-b049-b840e7e969cc",
   "metadata": {},
   "source": [
    "### Create and add to ZIP file"
   ]
  },
  {
   "cell_type": "code",
   "execution_count": 40,
   "id": "6f9a8c91-f008-4432-910d-0f0caa495228",
   "metadata": {},
   "outputs": [],
   "source": [
    "import zipfile\n",
    "\n",
    "with zipfile.ZipFile('./root_zipped.zip', 'w') as zf:\n",
    "    for root, dirs, files in os.walk('./root'):\n",
    "        for file in files:\n",
    "            zf.write(Path(root)/file, compress_type=zipfile.ZIP_DEFLATED)\n",
    "        for d in dirs:\n",
    "            zf.write(Path(root)/d, compress_type=zipfile.ZIP_DEFLATED)"
   ]
  },
  {
   "cell_type": "markdown",
   "id": "f36da912-8a66-49bd-b807-dbaa21632d50",
   "metadata": {},
   "source": [
    "### Read contents and file info"
   ]
  },
  {
   "cell_type": "code",
   "execution_count": 41,
   "id": "81051f5e-f3b0-430e-97bc-56c1d22471aa",
   "metadata": {},
   "outputs": [
    {
     "name": "stdout",
     "output_type": "stream",
     "text": [
      "['root/dir_01/', 'root/dir_02/', 'root/dir_03/', 'root/dir_01/file_01.txt', 'root/dir_01/subdir_01/', 'root/dir_01/subdir_02/', 'root/dir_01/subdir_03/', 'root/dir_01/subdir_01/file_01.txt', 'root/dir_01/subdir_02/file_01.txt', 'root/dir_01/subdir_03/file_01.txt', 'root/dir_02/file_02.txt', 'root/dir_02/subdir_01/', 'root/dir_02/subdir_02/', 'root/dir_02/subdir_03/', 'root/dir_02/subdir_01/file_02.txt', 'root/dir_02/subdir_02/file_02.txt', 'root/dir_02/subdir_03/file_02.txt', 'root/dir_03/file_03.txt', 'root/dir_03/subdir_01/', 'root/dir_03/subdir_02/', 'root/dir_03/subdir_03/', 'root/dir_03/subdir_01/file_03.txt', 'root/dir_03/subdir_02/file_03.txt', 'root/dir_03/subdir_03/file_03.txt']\n",
      "\n",
      "<ZipInfo filename='root/dir_01/file_01.txt' compress_type=deflate filemode='-rw-rw-rw-' file_size=18 compress_size=20>\n"
     ]
    }
   ],
   "source": [
    "with zipfile.ZipFile('root_zipped.zip') as zf:\n",
    "    print(zf.namelist())\n",
    "    print()\n",
    "    print(zf.getinfo(r'root/dir_01/file_01.txt'))"
   ]
  },
  {
   "cell_type": "markdown",
   "id": "aa13d4e7-3426-4beb-be4f-7db794517768",
   "metadata": {},
   "source": [
    "### Extract contents with ZipFile.extract_all() or ZipFile.extract()"
   ]
  },
  {
   "cell_type": "code",
   "execution_count": 42,
   "id": "6cbf4e9b-7a68-4791-a699-dddf3b1f87e5",
   "metadata": {},
   "outputs": [],
   "source": [
    "with zipfile.ZipFile('root_zipped.zip') as zf:\n",
    "    zf.extractall('unzipped')"
   ]
  },
  {
   "cell_type": "markdown",
   "id": "77571360-10e1-41ab-8cec-da7f0a151124",
   "metadata": {},
   "source": [
    "### Cleanup"
   ]
  },
  {
   "cell_type": "code",
   "execution_count": 43,
   "id": "ec0a4d3e-9e26-470a-be88-2c4b67833eda",
   "metadata": {},
   "outputs": [],
   "source": [
    "shutil.rmtree('./root')\n",
    "shutil.rmtree('./unzipped')\n",
    "os.remove('root_zipped.zip')\n",
    "os.remove('file_inventory.xlsx')"
   ]
  },
  {
   "cell_type": "code",
   "execution_count": null,
   "id": "6fad1e6b-188a-47e1-af26-eb6d5bef9f2d",
   "metadata": {},
   "outputs": [],
   "source": []
  }
 ],
 "metadata": {
  "kernelspec": {
   "display_name": "Python 3",
   "language": "python",
   "name": "python3"
  },
  "language_info": {
   "codemirror_mode": {
    "name": "ipython",
    "version": 3
   },
   "file_extension": ".py",
   "mimetype": "text/x-python",
   "name": "python",
   "nbconvert_exporter": "python",
   "pygments_lexer": "ipython3",
   "version": "3.9.4"
  }
 },
 "nbformat": 4,
 "nbformat_minor": 5
}
